{
  "nbformat": 4,
  "nbformat_minor": 0,
  "metadata": {
    "kernelspec": {
      "display_name": "Python 3",
      "language": "python",
      "name": "python3"
    },
    "language_info": {
      "codemirror_mode": {
        "name": "ipython",
        "version": 3
      },
      "file_extension": ".py",
      "mimetype": "text/x-python",
      "name": "python",
      "nbconvert_exporter": "python",
      "pygments_lexer": "ipython3",
      "version": "3.7.2"
    },
    "colab": {
      "name": "challenge-2.ipynb",
      "provenance": [],
      "collapsed_sections": []
    }
  },
  "cells": [
    {
      "cell_type": "markdown",
      "metadata": {
        "id": "ENtSpk3Loijm",
        "colab_type": "text"
      },
      "source": [
        "## Challenge 2: Sets\n",
        "\n",
        "There are a lot to learn about Python Sets and the information presented in the lesson is limited due to its length. To learn Python Sets in depth you are strongly encouraged to review the W3Schools tutorial on [Python Sets Examples and Methods](https://www.w3schools.com/python/python_sets.asp) before you work on this lab. Some difficult questions in this lab have their solutions in the W3Schools tutorial.\n",
        "\n",
        "#### First, import the Python `random` libary"
      ]
    },
    {
      "cell_type": "code",
      "metadata": {
        "id": "sTGz1Oj7oijs",
        "colab_type": "code",
        "colab": {}
      },
      "source": [
        "import random"
      ],
      "execution_count": 0,
      "outputs": []
    },
    {
      "cell_type": "markdown",
      "metadata": {
        "id": "kyUxIExBoijx",
        "colab_type": "text"
      },
      "source": [
        "#### In the cell below, create a list named `sample_list_1` with 80 random values. \n",
        "\n",
        "Requirements:\n",
        "\n",
        "* Each value is an integer falling between 0 and 100.\n",
        "* Each value in the list is unique.\n",
        "\n",
        "Print `sample_list_1` to review its values\n",
        "\n",
        "*Hint: use `random.sample` ([reference](https://docs.python.org/3/library/random.html#random.sample)).*"
      ]
    },
    {
      "cell_type": "code",
      "metadata": {
        "id": "nuokn_kRoijz",
        "colab_type": "code",
        "colab": {
          "base_uri": "https://localhost:8080/",
          "height": 72
        },
        "outputId": "3665a052-eaa5-418c-d3cd-d05afc6f3750"
      },
      "source": [
        "# Your code here\n",
        "sample_list_1 = random.sample(range(0,100),80)\n",
        "print(sample_list_1)\n",
        "\n",
        "len(sample_list_1) == len(set(sample_list_1))"
      ],
      "execution_count": 113,
      "outputs": [
        {
          "output_type": "stream",
          "text": [
            "[18, 82, 63, 12, 79, 36, 17, 40, 34, 21, 16, 25, 87, 92, 42, 53, 22, 10, 54, 48, 68, 72, 8, 60, 44, 37, 20, 51, 47, 24, 41, 80, 57, 93, 85, 99, 62, 83, 3, 30, 26, 61, 5, 1, 39, 75, 74, 76, 9, 81, 29, 58, 28, 73, 38, 95, 70, 2, 98, 49, 19, 45, 52, 15, 11, 6, 89, 35, 0, 31, 64, 77, 90, 78, 13, 69, 91, 27, 56, 14]\n"
          ],
          "name": "stdout"
        },
        {
          "output_type": "execute_result",
          "data": {
            "text/plain": [
              "True"
            ]
          },
          "metadata": {
            "tags": []
          },
          "execution_count": 113
        }
      ]
    },
    {
      "cell_type": "markdown",
      "metadata": {
        "id": "S7QaMAefoij3",
        "colab_type": "text"
      },
      "source": [
        "#### Convert `sample_list_1` to a set called `set1`. Print the length of the set. Is its length still 80?"
      ]
    },
    {
      "cell_type": "code",
      "metadata": {
        "id": "Jgukx1Xpoij4",
        "colab_type": "code",
        "colab": {
          "base_uri": "https://localhost:8080/",
          "height": 54
        },
        "outputId": "d8273571-39b4-4d08-9900-3e1fcb4c960e"
      },
      "source": [
        "# Your code here\n",
        "# Done on top👆🏼. Obrigada Luke!\n",
        "\n",
        "set1 = set(sample_list_1)\n",
        "print(set1)"
      ],
      "execution_count": 114,
      "outputs": [
        {
          "output_type": "stream",
          "text": [
            "{0, 1, 2, 3, 5, 6, 8, 9, 10, 11, 12, 13, 14, 15, 16, 17, 18, 19, 20, 21, 22, 24, 25, 26, 27, 28, 29, 30, 31, 34, 35, 36, 37, 38, 39, 40, 41, 42, 44, 45, 47, 48, 49, 51, 52, 53, 54, 56, 57, 58, 60, 61, 62, 63, 64, 68, 69, 70, 72, 73, 74, 75, 76, 77, 78, 79, 80, 81, 82, 83, 85, 87, 89, 90, 91, 92, 93, 95, 98, 99}\n"
          ],
          "name": "stdout"
        }
      ]
    },
    {
      "cell_type": "markdown",
      "metadata": {
        "id": "kRH1Z0IJoikB",
        "colab_type": "text"
      },
      "source": [
        "#### Create another list named `sample_list_2` with 80 random values.\n",
        "\n",
        "\n",
        "Requirements:\n",
        "\n",
        "* Each value is an integer falling between 0 and 100.\n",
        "* The values in the list don't have to be unique.\n",
        "\n",
        "*Hint: Use a FOR loop.*"
      ]
    },
    {
      "cell_type": "code",
      "metadata": {
        "id": "mq6VuUJJoikC",
        "colab_type": "code",
        "colab": {
          "base_uri": "https://localhost:8080/",
          "height": 54
        },
        "outputId": "800ebc2d-c55e-4bd0-d82f-0790273a6eef"
      },
      "source": [
        "# Your code here\n",
        "sample_list_2 = [random.randint(0,100) for i in range(80)]\n",
        "print(sample_list_2)\n"
      ],
      "execution_count": 115,
      "outputs": [
        {
          "output_type": "stream",
          "text": [
            "[36, 67, 100, 80, 98, 4, 73, 85, 100, 4, 87, 75, 41, 56, 6, 90, 66, 95, 46, 9, 86, 9, 28, 88, 46, 84, 35, 9, 19, 76, 99, 100, 8, 98, 16, 41, 92, 94, 70, 56, 37, 31, 22, 32, 91, 94, 17, 1, 30, 89, 71, 49, 58, 23, 16, 65, 42, 80, 81, 74, 25, 21, 74, 58, 67, 2, 89, 92, 62, 82, 70, 55, 97, 29, 69, 4, 85, 9, 35, 28]\n"
          ],
          "name": "stdout"
        }
      ]
    },
    {
      "cell_type": "markdown",
      "metadata": {
        "id": "my5e3agPoikF",
        "colab_type": "text"
      },
      "source": [
        "#### Convert `sample_list_2` to a set called `set2`. Print the length of the set. Is its length still 80?"
      ]
    },
    {
      "cell_type": "code",
      "metadata": {
        "id": "Aw99SI20oikH",
        "colab_type": "code",
        "colab": {
          "base_uri": "https://localhost:8080/",
          "height": 72
        },
        "outputId": "e3f7f9ad-cd4c-4575-b701-74e2ab5f3234"
      },
      "source": [
        "# Your code here\n",
        "set2 = set(sample_list_2)\n",
        "print(len(set2))\n",
        "print(set2)\n",
        "\n",
        "# NOPE - It erased the repeated items"
      ],
      "execution_count": 116,
      "outputs": [
        {
          "output_type": "stream",
          "text": [
            "57\n",
            "{1, 2, 4, 6, 8, 9, 16, 17, 19, 21, 22, 23, 25, 28, 29, 30, 31, 32, 35, 36, 37, 41, 42, 46, 49, 55, 56, 58, 62, 65, 66, 67, 69, 70, 71, 73, 74, 75, 76, 80, 81, 82, 84, 85, 86, 87, 88, 89, 90, 91, 92, 94, 95, 97, 98, 99, 100}\n"
          ],
          "name": "stdout"
        }
      ]
    },
    {
      "cell_type": "markdown",
      "metadata": {
        "id": "rKeV8xozoikL",
        "colab_type": "text"
      },
      "source": [
        "#### Identify the elements present in `set1` but not in `set2`. Assign the elements to a new set named `set3`."
      ]
    },
    {
      "cell_type": "code",
      "metadata": {
        "id": "aeWf7C2coikN",
        "colab_type": "code",
        "colab": {
          "base_uri": "https://localhost:8080/",
          "height": 34
        },
        "outputId": "ce126c82-9a9d-493a-ba12-f902e15b8e50"
      },
      "source": [
        "# Your code here\n",
        "set3 = set1.difference(set2)\n",
        "print(len(set3))"
      ],
      "execution_count": 117,
      "outputs": [
        {
          "output_type": "stream",
          "text": [
            "38\n"
          ],
          "name": "stdout"
        }
      ]
    },
    {
      "cell_type": "markdown",
      "metadata": {
        "id": "UF8kmKwYoikR",
        "colab_type": "text"
      },
      "source": [
        "#### Identify the elements present in `set2` but not in `set1`. Assign the elements to a new set named `set4`."
      ]
    },
    {
      "cell_type": "code",
      "metadata": {
        "id": "W2IN_1VwoikS",
        "colab_type": "code",
        "colab": {
          "base_uri": "https://localhost:8080/",
          "height": 34
        },
        "outputId": "a5d200da-eba7-44ec-9406-43d34a45fd6e"
      },
      "source": [
        "# Your code here\n",
        "set4 = set2.difference(set1)\n",
        "print(len(set4))\n"
      ],
      "execution_count": 118,
      "outputs": [
        {
          "output_type": "stream",
          "text": [
            "15\n"
          ],
          "name": "stdout"
        }
      ]
    },
    {
      "cell_type": "markdown",
      "metadata": {
        "id": "EOMB8CBooikZ",
        "colab_type": "text"
      },
      "source": [
        "#### Now Identify the elements shared between `set1` and `set2`. Assign the elements to a new set named `set5`."
      ]
    },
    {
      "cell_type": "code",
      "metadata": {
        "id": "8-IvDjGqoikb",
        "colab_type": "code",
        "colab": {
          "base_uri": "https://localhost:8080/",
          "height": 34
        },
        "outputId": "d2055158-ac36-4a34-ca35-23fc80c73dfd"
      },
      "source": [
        "# Your code here\n",
        "set5 = set1.intersection(set2)\n",
        "print(len(set5))"
      ],
      "execution_count": 119,
      "outputs": [
        {
          "output_type": "stream",
          "text": [
            "42\n"
          ],
          "name": "stdout"
        }
      ]
    },
    {
      "cell_type": "markdown",
      "metadata": {
        "id": "FRHcq6txoikk",
        "colab_type": "text"
      },
      "source": [
        "#### What is the relationship among the following values:\n",
        "\n",
        "* len(set1)\n",
        "* len(set2)\n",
        "* len(set3)\n",
        "* len(set4)\n",
        "* len(set5)\n",
        "\n",
        "Use a math formular to represent that relationship. Test your formular with Python code."
      ]
    },
    {
      "cell_type": "code",
      "metadata": {
        "id": "GPvYOysKoikl",
        "colab_type": "code",
        "colab": {
          "base_uri": "https://localhost:8080/",
          "height": 70
        },
        "outputId": "175fd0dd-8e98-448a-d6d2-6b3f19102ff7"
      },
      "source": [
        "# Your code here\n",
        "# Set3 holds the values that exist in set1 but not in set2\n",
        "# Set4 holds the values that exist in set2 but not in set1\n",
        "# set5 holds the values that exist in set2 and in set1\n",
        "\n",
        "# Shows that set1 holds the values of whatever is not in set 2 + the intersection of set1 with set2\n",
        "print(len(set1) == len(set3)+len(set5))\n",
        "\n",
        "# Shows that set2 holds the values of whatever is not in set 1 + the intersection of set1 with set2\n",
        "print(len(set2) == len(set4)+len(set5))\n",
        "\n",
        "# Shows that the sum of set1 and 2 minus the intersection between them is equal to the sum of:\n",
        "#  > whatever is in set 1 and not in set2\n",
        "#  > whatever is in set 2 and not in set1\n",
        "#  > whatever is in both\n",
        "print(len(set2) + len(set1) - len(set5) == len(set3)+ len(set4) + len(set5))\n"
      ],
      "execution_count": 120,
      "outputs": [
        {
          "output_type": "stream",
          "text": [
            "True\n",
            "True\n",
            "True\n"
          ],
          "name": "stdout"
        }
      ]
    },
    {
      "cell_type": "markdown",
      "metadata": {
        "id": "OXenyGXloikp",
        "colab_type": "text"
      },
      "source": [
        "#### Create an empty set called `set6`."
      ]
    },
    {
      "cell_type": "code",
      "metadata": {
        "id": "we2z0JkHoikq",
        "colab_type": "code",
        "colab": {
          "base_uri": "https://localhost:8080/",
          "height": 34
        },
        "outputId": "654ecaaa-6e02-4b8e-8515-ddc031d534cd"
      },
      "source": [
        "# Your code here\n",
        "set6 = set()\n",
        "type(set6)\n"
      ],
      "execution_count": 121,
      "outputs": [
        {
          "output_type": "execute_result",
          "data": {
            "text/plain": [
              "set"
            ]
          },
          "metadata": {
            "tags": []
          },
          "execution_count": 121
        }
      ]
    },
    {
      "cell_type": "markdown",
      "metadata": {
        "id": "wd96_Tj2oiku",
        "colab_type": "text"
      },
      "source": [
        "#### Add `set3` and `set5` to `set6` using the Python Set `update` method."
      ]
    },
    {
      "cell_type": "code",
      "metadata": {
        "id": "U4Kwef2Doikv",
        "colab_type": "code",
        "colab": {
          "base_uri": "https://localhost:8080/",
          "height": 54
        },
        "outputId": "005894fa-2274-4799-ac5e-9c1ab6ea0c40"
      },
      "source": [
        "# Your code here\n",
        "\n",
        "set6.update(set3,set5)\n",
        "print(set6) \n"
      ],
      "execution_count": 122,
      "outputs": [
        {
          "output_type": "stream",
          "text": [
            "{0, 1, 2, 3, 5, 6, 8, 9, 10, 11, 12, 13, 14, 15, 16, 17, 18, 19, 20, 21, 22, 24, 25, 26, 27, 28, 29, 30, 31, 34, 35, 36, 37, 38, 39, 40, 41, 42, 44, 45, 47, 48, 49, 51, 52, 53, 54, 56, 57, 58, 60, 61, 62, 63, 64, 68, 69, 70, 72, 73, 74, 75, 76, 77, 78, 79, 80, 81, 82, 83, 85, 87, 89, 90, 91, 92, 93, 95, 98, 99}\n"
          ],
          "name": "stdout"
        }
      ]
    },
    {
      "cell_type": "markdown",
      "metadata": {
        "id": "WGCXwIJEoikz",
        "colab_type": "text"
      },
      "source": [
        "#### Check if `set1` and `set6` are equal."
      ]
    },
    {
      "cell_type": "code",
      "metadata": {
        "id": "-9laruR1oik1",
        "colab_type": "code",
        "colab": {
          "base_uri": "https://localhost:8080/",
          "height": 34
        },
        "outputId": "9e638dad-2585-405e-c172-8bade9e423d9"
      },
      "source": [
        "# Your code here\n",
        "print(set1 == set6)\n"
      ],
      "execution_count": 123,
      "outputs": [
        {
          "output_type": "stream",
          "text": [
            "True\n"
          ],
          "name": "stdout"
        }
      ]
    },
    {
      "cell_type": "markdown",
      "metadata": {
        "id": "CounvO3Loik6",
        "colab_type": "text"
      },
      "source": [
        "#### Check if `set1` contains `set2` using the Python Set `issubset` method. Then check if `set1` contains `set3`.*"
      ]
    },
    {
      "cell_type": "code",
      "metadata": {
        "id": "-ChcXfvfoik7",
        "colab_type": "code",
        "colab": {
          "base_uri": "https://localhost:8080/",
          "height": 52
        },
        "outputId": "3b103ace-ad11-436b-de57-4efcd9785e4e"
      },
      "source": [
        "# Your code here\n",
        "\n",
        "print(set2.issubset(set1))\n",
        "print(set3.issubset(set1))\n"
      ],
      "execution_count": 124,
      "outputs": [
        {
          "output_type": "stream",
          "text": [
            "False\n",
            "True\n"
          ],
          "name": "stdout"
        }
      ]
    },
    {
      "cell_type": "markdown",
      "metadata": {
        "id": "0EWssDHQoilD",
        "colab_type": "text"
      },
      "source": [
        "#### Using the Python Set `union` method, aggregate `set3`, `set4`, and `set5`. Then aggregate `set1` and `set2`. \n",
        "\n",
        "#### Check if the aggregated values are equal."
      ]
    },
    {
      "cell_type": "code",
      "metadata": {
        "id": "NskXpNUqoilE",
        "colab_type": "code",
        "colab": {
          "base_uri": "https://localhost:8080/",
          "height": 34
        },
        "outputId": "a7237631-5d00-434f-f1c0-89f532af5944"
      },
      "source": [
        "# Your code here\n",
        "set3.union(set4,set5) == set1.union(set2)"
      ],
      "execution_count": 125,
      "outputs": [
        {
          "output_type": "execute_result",
          "data": {
            "text/plain": [
              "True"
            ]
          },
          "metadata": {
            "tags": []
          },
          "execution_count": 125
        }
      ]
    },
    {
      "cell_type": "markdown",
      "metadata": {
        "id": "QjNKxKrsoilH",
        "colab_type": "text"
      },
      "source": [
        "#### Using the `pop` method, remove the first element from `set1`."
      ]
    },
    {
      "cell_type": "code",
      "metadata": {
        "id": "doT87NT3oilI",
        "colab_type": "code",
        "colab": {
          "base_uri": "https://localhost:8080/",
          "height": 54
        },
        "outputId": "f98ce2b6-a937-4047-cead-79fdcd23b87f"
      },
      "source": [
        "# Your code here\n",
        "\n",
        "# QUES sets are inherently unordered. There is no meaningful \"first\" or \"last\" element.\n",
        "set1.pop()\n",
        "print(set1)"
      ],
      "execution_count": 126,
      "outputs": [
        {
          "output_type": "stream",
          "text": [
            "{1, 2, 3, 5, 6, 8, 9, 10, 11, 12, 13, 14, 15, 16, 17, 18, 19, 20, 21, 22, 24, 25, 26, 27, 28, 29, 30, 31, 34, 35, 36, 37, 38, 39, 40, 41, 42, 44, 45, 47, 48, 49, 51, 52, 53, 54, 56, 57, 58, 60, 61, 62, 63, 64, 68, 69, 70, 72, 73, 74, 75, 76, 77, 78, 79, 80, 81, 82, 83, 85, 87, 89, 90, 91, 92, 93, 95, 98, 99}\n"
          ],
          "name": "stdout"
        }
      ]
    },
    {
      "cell_type": "markdown",
      "metadata": {
        "id": "xe82UKEXoilM",
        "colab_type": "text"
      },
      "source": [
        "#### Remove every element in the following list from `set1` if they are present in the set. Print the remaining elements.\n",
        "\n",
        "```\n",
        "list_to_remove = [1, 9, 11, 19, 21, 29, 31, 39, 41, 49, 51, 59, 61, 69, 71, 79, 81, 89, 91, 99]\n",
        "```"
      ]
    },
    {
      "cell_type": "code",
      "metadata": {
        "id": "1VYxkKRhoilU",
        "colab_type": "code",
        "colab": {}
      },
      "source": [
        "# Your code here\n",
        "list_to_remove = [1, 9, 11, 19, 21, 29, 31, 39, 41, 49, 51, 59, 61, 69, 71, 79, 81, 89, 91, 99]\n"
      ],
      "execution_count": 0,
      "outputs": []
    },
    {
      "cell_type": "code",
      "metadata": {
        "id": "zOvE0pX6EYRQ",
        "colab_type": "code",
        "colab": {
          "base_uri": "https://localhost:8080/",
          "height": 54
        },
        "outputId": "47df8495-8f30-4316-8e30-dee1d26ebc3c"
      },
      "source": [
        "for num in list_to_remove:\n",
        "  if num in set1:\n",
        "    set1.remove(num)\n",
        "\n",
        "print(set1)"
      ],
      "execution_count": 128,
      "outputs": [
        {
          "output_type": "stream",
          "text": [
            "{2, 3, 5, 6, 8, 10, 12, 13, 14, 15, 16, 17, 18, 20, 22, 24, 25, 26, 27, 28, 30, 34, 35, 36, 37, 38, 40, 42, 44, 45, 47, 48, 52, 53, 54, 56, 57, 58, 60, 62, 63, 64, 68, 70, 72, 73, 74, 75, 76, 77, 78, 80, 82, 83, 85, 87, 90, 92, 93, 95, 98}\n"
          ],
          "name": "stdout"
        }
      ]
    }
  ]
}