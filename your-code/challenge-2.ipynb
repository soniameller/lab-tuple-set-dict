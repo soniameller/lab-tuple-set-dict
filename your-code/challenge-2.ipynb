{
  "nbformat": 4,
  "nbformat_minor": 0,
  "metadata": {
    "kernelspec": {
      "display_name": "Python 3",
      "language": "python",
      "name": "python3"
    },
    "language_info": {
      "codemirror_mode": {
        "name": "ipython",
        "version": 3
      },
      "file_extension": ".py",
      "mimetype": "text/x-python",
      "name": "python",
      "nbconvert_exporter": "python",
      "pygments_lexer": "ipython3",
      "version": "3.7.2"
    },
    "colab": {
      "name": "challenge-2.ipynb",
      "provenance": [],
      "collapsed_sections": []
    }
  },
  "cells": [
    {
      "cell_type": "markdown",
      "metadata": {
        "id": "ENtSpk3Loijm",
        "colab_type": "text"
      },
      "source": [
        "## Challenge 2: Sets\n",
        "\n",
        "There are a lot to learn about Python Sets and the information presented in the lesson is limited due to its length. To learn Python Sets in depth you are strongly encouraged to review the W3Schools tutorial on [Python Sets Examples and Methods](https://www.w3schools.com/python/python_sets.asp) before you work on this lab. Some difficult questions in this lab have their solutions in the W3Schools tutorial.\n",
        "\n",
        "#### First, import the Python `random` libary"
      ]
    },
    {
      "cell_type": "code",
      "metadata": {
        "id": "sTGz1Oj7oijs",
        "colab_type": "code",
        "colab": {}
      },
      "source": [
        "import random"
      ],
      "execution_count": 0,
      "outputs": []
    },
    {
      "cell_type": "markdown",
      "metadata": {
        "id": "kyUxIExBoijx",
        "colab_type": "text"
      },
      "source": [
        "#### In the cell below, create a list named `sample_list_1` with 80 random values. \n",
        "\n",
        "Requirements:\n",
        "\n",
        "* Each value is an integer falling between 0 and 100.\n",
        "* Each value in the list is unique.\n",
        "\n",
        "Print `sample_list_1` to review its values\n",
        "\n",
        "*Hint: use `random.sample` ([reference](https://docs.python.org/3/library/random.html#random.sample)).*"
      ]
    },
    {
      "cell_type": "code",
      "metadata": {
        "id": "nuokn_kRoijz",
        "colab_type": "code",
        "outputId": "63bc1a9e-5033-4a12-bb08-a4a55b84ae2f",
        "colab": {
          "base_uri": "https://localhost:8080/",
          "height": 72
        }
      },
      "source": [
        "# Your code here\n",
        "sample_list_1 = random.sample(range(0,100),80)\n",
        "print(sample_list_1)\n",
        "\n",
        "len(sample_list_1) == len(set(sample_list_1))"
      ],
      "execution_count": 544,
      "outputs": [
        {
          "output_type": "stream",
          "text": [
            "[39, 78, 10, 42, 90, 38, 50, 59, 95, 79, 92, 60, 26, 23, 27, 40, 35, 29, 85, 15, 37, 65, 41, 24, 66, 49, 45, 55, 83, 75, 34, 43, 25, 7, 96, 36, 30, 68, 5, 91, 18, 71, 77, 17, 9, 13, 53, 74, 16, 21, 12, 72, 47, 67, 2, 93, 54, 94, 86, 22, 99, 8, 88, 61, 73, 81, 64, 56, 70, 58, 46, 6, 52, 31, 14, 44, 4, 80, 0, 84]\n"
          ],
          "name": "stdout"
        },
        {
          "output_type": "execute_result",
          "data": {
            "text/plain": [
              "True"
            ]
          },
          "metadata": {
            "tags": []
          },
          "execution_count": 544
        }
      ]
    },
    {
      "cell_type": "markdown",
      "metadata": {
        "id": "S7QaMAefoij3",
        "colab_type": "text"
      },
      "source": [
        "#### Convert `sample_list_1` to a set called `set1`. Print the length of the set. Is its length still 80?"
      ]
    },
    {
      "cell_type": "code",
      "metadata": {
        "id": "Jgukx1Xpoij4",
        "colab_type": "code",
        "outputId": "89443e3b-7256-497f-c200-c0e174beddbe",
        "colab": {
          "base_uri": "https://localhost:8080/",
          "height": 54
        }
      },
      "source": [
        "# Your code here\n",
        "# Done on top👆🏼. Obrigada Luke!\n",
        "\n",
        "set1 = set(sample_list_1)\n",
        "print(set1)"
      ],
      "execution_count": 545,
      "outputs": [
        {
          "output_type": "stream",
          "text": [
            "{0, 2, 4, 5, 6, 7, 8, 9, 10, 12, 13, 14, 15, 16, 17, 18, 21, 22, 23, 24, 25, 26, 27, 29, 30, 31, 34, 35, 36, 37, 38, 39, 40, 41, 42, 43, 44, 45, 46, 47, 49, 50, 52, 53, 54, 55, 56, 58, 59, 60, 61, 64, 65, 66, 67, 68, 70, 71, 72, 73, 74, 75, 77, 78, 79, 80, 81, 83, 84, 85, 86, 88, 90, 91, 92, 93, 94, 95, 96, 99}\n"
          ],
          "name": "stdout"
        }
      ]
    },
    {
      "cell_type": "markdown",
      "metadata": {
        "id": "kRH1Z0IJoikB",
        "colab_type": "text"
      },
      "source": [
        "#### Create another list named `sample_list_2` with 80 random values.\n",
        "\n",
        "\n",
        "Requirements:\n",
        "\n",
        "* Each value is an integer falling between 0 and 100.\n",
        "* The values in the list don't have to be unique.\n",
        "\n",
        "*Hint: Use a FOR loop.*"
      ]
    },
    {
      "cell_type": "code",
      "metadata": {
        "id": "mq6VuUJJoikC",
        "colab_type": "code",
        "outputId": "f6a1a4eb-d89f-4f7c-f507-bcf0e8526f7d",
        "colab": {
          "base_uri": "https://localhost:8080/",
          "height": 54
        }
      },
      "source": [
        "# Your code here\n",
        "sample_list_2 = [random.randint(0,100) for i in range(80)]\n",
        "print(sample_list_2)\n"
      ],
      "execution_count": 546,
      "outputs": [
        {
          "output_type": "stream",
          "text": [
            "[88, 32, 70, 64, 42, 10, 68, 71, 77, 16, 13, 66, 54, 0, 69, 9, 74, 100, 73, 65, 21, 13, 28, 30, 35, 33, 87, 18, 46, 98, 64, 5, 74, 63, 79, 19, 28, 1, 44, 87, 23, 24, 45, 1, 91, 39, 3, 69, 64, 2, 27, 79, 57, 43, 72, 14, 89, 85, 83, 73, 26, 9, 27, 65, 100, 29, 34, 5, 27, 37, 40, 88, 49, 20, 11, 10, 52, 75, 3, 51]\n"
          ],
          "name": "stdout"
        }
      ]
    },
    {
      "cell_type": "markdown",
      "metadata": {
        "id": "my5e3agPoikF",
        "colab_type": "text"
      },
      "source": [
        "#### Convert `sample_list_2` to a set called `set2`. Print the length of the set. Is its length still 80?"
      ]
    },
    {
      "cell_type": "code",
      "metadata": {
        "id": "Aw99SI20oikH",
        "colab_type": "code",
        "outputId": "1ddbc84c-0402-46bb-ec21-9d89de1d92e4",
        "colab": {
          "base_uri": "https://localhost:8080/",
          "height": 72
        }
      },
      "source": [
        "# Your code here\n",
        "set2 = set(sample_list_2)\n",
        "print(len(set2))\n",
        "print(set2)\n",
        "\n",
        "# NOPE - It erased the repeated items"
      ],
      "execution_count": 547,
      "outputs": [
        {
          "output_type": "stream",
          "text": [
            "61\n",
            "{0, 1, 2, 3, 5, 9, 10, 11, 13, 14, 16, 18, 19, 20, 21, 23, 24, 26, 27, 28, 29, 30, 32, 33, 34, 35, 37, 39, 40, 42, 43, 44, 45, 46, 49, 51, 52, 54, 57, 63, 64, 65, 66, 68, 69, 70, 71, 72, 73, 74, 75, 77, 79, 83, 85, 87, 88, 89, 91, 98, 100}\n"
          ],
          "name": "stdout"
        }
      ]
    },
    {
      "cell_type": "markdown",
      "metadata": {
        "id": "rKeV8xozoikL",
        "colab_type": "text"
      },
      "source": [
        "#### Identify the elements present in `set1` but not in `set2`. Assign the elements to a new set named `set3`."
      ]
    },
    {
      "cell_type": "code",
      "metadata": {
        "id": "aeWf7C2coikN",
        "colab_type": "code",
        "outputId": "1b488507-159c-4f66-f1cc-b4b9660e174c",
        "colab": {
          "base_uri": "https://localhost:8080/",
          "height": 34
        }
      },
      "source": [
        "# Your code here\n",
        "set3 = set1.difference(set2)\n",
        "print(len(set3))"
      ],
      "execution_count": 548,
      "outputs": [
        {
          "output_type": "stream",
          "text": [
            "35\n"
          ],
          "name": "stdout"
        }
      ]
    },
    {
      "cell_type": "markdown",
      "metadata": {
        "id": "UF8kmKwYoikR",
        "colab_type": "text"
      },
      "source": [
        "#### Identify the elements present in `set2` but not in `set1`. Assign the elements to a new set named `set4`."
      ]
    },
    {
      "cell_type": "code",
      "metadata": {
        "id": "W2IN_1VwoikS",
        "colab_type": "code",
        "outputId": "2ef77e0a-2246-4c72-96cd-c75b12f49fe8",
        "colab": {
          "base_uri": "https://localhost:8080/",
          "height": 34
        }
      },
      "source": [
        "# Your code here\n",
        "set4 = set2.difference(set1)\n",
        "print(len(set4))\n"
      ],
      "execution_count": 549,
      "outputs": [
        {
          "output_type": "stream",
          "text": [
            "16\n"
          ],
          "name": "stdout"
        }
      ]
    },
    {
      "cell_type": "markdown",
      "metadata": {
        "id": "EOMB8CBooikZ",
        "colab_type": "text"
      },
      "source": [
        "#### Now Identify the elements shared between `set1` and `set2`. Assign the elements to a new set named `set5`."
      ]
    },
    {
      "cell_type": "code",
      "metadata": {
        "id": "8-IvDjGqoikb",
        "colab_type": "code",
        "outputId": "c3500a3a-cdec-407f-a75d-de222833f002",
        "colab": {
          "base_uri": "https://localhost:8080/",
          "height": 34
        }
      },
      "source": [
        "# Your code here\n",
        "set5 = set1.intersection(set2)\n",
        "print(len(set5))"
      ],
      "execution_count": 550,
      "outputs": [
        {
          "output_type": "stream",
          "text": [
            "45\n"
          ],
          "name": "stdout"
        }
      ]
    },
    {
      "cell_type": "markdown",
      "metadata": {
        "id": "FRHcq6txoikk",
        "colab_type": "text"
      },
      "source": [
        "#### What is the relationship among the following values:\n",
        "\n",
        "* len(set1)\n",
        "* len(set2)\n",
        "* len(set3)\n",
        "* len(set4)\n",
        "* len(set5)\n",
        "\n",
        "Use a math formular to represent that relationship. Test your formular with Python code."
      ]
    },
    {
      "cell_type": "code",
      "metadata": {
        "id": "GPvYOysKoikl",
        "colab_type": "code",
        "outputId": "8734fc2b-3056-46db-cb42-25060a0593a5",
        "colab": {
          "base_uri": "https://localhost:8080/",
          "height": 70
        }
      },
      "source": [
        "# Your code here\n",
        "# Set3 holds the values that exist in set1 but not in set2\n",
        "# Set4 holds the values that exist in set2 but not in set1\n",
        "# set5 holds the values that exist in set2 and in set1\n",
        "\n",
        "# Shows that set1 holds the values of whatever is not in set 2 + the intersection of set1 with set2\n",
        "print(len(set1) == len(set3)+len(set5))\n",
        "\n",
        "# Shows that set2 holds the values of whatever is not in set 1 + the intersection of set1 with set2\n",
        "print(len(set2) == len(set4)+len(set5))\n",
        "\n",
        "# Shows that the sum of set1 and 2 minus the intersection between them is equal to the sum of:\n",
        "#  > whatever is in set 1 and not in set2\n",
        "#  > whatever is in set 2 and not in set1\n",
        "#  > whatever is in both\n",
        "print(len(set2) + len(set1) - len(set5) == len(set3)+ len(set4) + len(set5))\n"
      ],
      "execution_count": 551,
      "outputs": [
        {
          "output_type": "stream",
          "text": [
            "True\n",
            "True\n",
            "True\n"
          ],
          "name": "stdout"
        }
      ]
    },
    {
      "cell_type": "markdown",
      "metadata": {
        "id": "OXenyGXloikp",
        "colab_type": "text"
      },
      "source": [
        "#### Create an empty set called `set6`."
      ]
    },
    {
      "cell_type": "code",
      "metadata": {
        "id": "we2z0JkHoikq",
        "colab_type": "code",
        "outputId": "d7c54142-1f67-4818-997a-a6822dcf84ee",
        "colab": {
          "base_uri": "https://localhost:8080/",
          "height": 34
        }
      },
      "source": [
        "# Your code here\n",
        "set6 = set()\n",
        "type(set6)\n"
      ],
      "execution_count": 552,
      "outputs": [
        {
          "output_type": "execute_result",
          "data": {
            "text/plain": [
              "set"
            ]
          },
          "metadata": {
            "tags": []
          },
          "execution_count": 552
        }
      ]
    },
    {
      "cell_type": "markdown",
      "metadata": {
        "id": "wd96_Tj2oiku",
        "colab_type": "text"
      },
      "source": [
        "#### Add `set3` and `set5` to `set6` using the Python Set `update` method."
      ]
    },
    {
      "cell_type": "code",
      "metadata": {
        "id": "U4Kwef2Doikv",
        "colab_type": "code",
        "outputId": "8d332710-2c1e-4882-9511-478fa5c1dba4",
        "colab": {
          "base_uri": "https://localhost:8080/",
          "height": 54
        }
      },
      "source": [
        "# Your code here\n",
        "\n",
        "set6.update(set3,set5)\n",
        "print(set6) \n"
      ],
      "execution_count": 553,
      "outputs": [
        {
          "output_type": "stream",
          "text": [
            "{0, 2, 4, 5, 6, 7, 8, 9, 10, 12, 13, 14, 15, 16, 17, 18, 21, 22, 23, 24, 25, 26, 27, 29, 30, 31, 34, 35, 36, 37, 38, 39, 40, 41, 42, 43, 44, 45, 46, 47, 49, 50, 52, 53, 54, 55, 56, 58, 59, 60, 61, 64, 65, 66, 67, 68, 70, 71, 72, 73, 74, 75, 77, 78, 79, 80, 81, 83, 84, 85, 86, 88, 90, 91, 92, 93, 94, 95, 96, 99}\n"
          ],
          "name": "stdout"
        }
      ]
    },
    {
      "cell_type": "markdown",
      "metadata": {
        "id": "WGCXwIJEoikz",
        "colab_type": "text"
      },
      "source": [
        "#### Check if `set1` and `set6` are equal."
      ]
    },
    {
      "cell_type": "code",
      "metadata": {
        "id": "-9laruR1oik1",
        "colab_type": "code",
        "outputId": "ff082354-4f66-485b-bcbc-7e7caf921b3b",
        "colab": {
          "base_uri": "https://localhost:8080/",
          "height": 34
        }
      },
      "source": [
        "# Your code here\n",
        "print(set1 == set6)\n"
      ],
      "execution_count": 554,
      "outputs": [
        {
          "output_type": "stream",
          "text": [
            "True\n"
          ],
          "name": "stdout"
        }
      ]
    },
    {
      "cell_type": "markdown",
      "metadata": {
        "id": "CounvO3Loik6",
        "colab_type": "text"
      },
      "source": [
        "#### Check if `set1` contains `set2` using the Python Set `issubset` method. Then check if `set1` contains `set3`.*"
      ]
    },
    {
      "cell_type": "code",
      "metadata": {
        "id": "-ChcXfvfoik7",
        "colab_type": "code",
        "outputId": "7aface8c-1e5f-4ead-aee8-cd099714a6d9",
        "colab": {
          "base_uri": "https://localhost:8080/",
          "height": 52
        }
      },
      "source": [
        "# Your code here\n",
        "\n",
        "print(set2.issubset(set1))\n",
        "print(set3.issubset(set1))\n"
      ],
      "execution_count": 555,
      "outputs": [
        {
          "output_type": "stream",
          "text": [
            "False\n",
            "True\n"
          ],
          "name": "stdout"
        }
      ]
    },
    {
      "cell_type": "markdown",
      "metadata": {
        "id": "0EWssDHQoilD",
        "colab_type": "text"
      },
      "source": [
        "#### Using the Python Set `union` method, aggregate `set3`, `set4`, and `set5`. Then aggregate `set1` and `set2`. \n",
        "\n",
        "#### Check if the aggregated values are equal."
      ]
    },
    {
      "cell_type": "code",
      "metadata": {
        "id": "NskXpNUqoilE",
        "colab_type": "code",
        "outputId": "16cbf75b-8809-4418-f54c-cf536b7da507",
        "colab": {
          "base_uri": "https://localhost:8080/",
          "height": 34
        }
      },
      "source": [
        "# Your code here\n",
        "set3.union(set4,set5) == set1.union(set2)"
      ],
      "execution_count": 556,
      "outputs": [
        {
          "output_type": "execute_result",
          "data": {
            "text/plain": [
              "True"
            ]
          },
          "metadata": {
            "tags": []
          },
          "execution_count": 556
        }
      ]
    },
    {
      "cell_type": "markdown",
      "metadata": {
        "id": "QjNKxKrsoilH",
        "colab_type": "text"
      },
      "source": [
        "#### Using the `pop` method, remove the first element from `set1`."
      ]
    },
    {
      "cell_type": "code",
      "metadata": {
        "id": "doT87NT3oilI",
        "colab_type": "code",
        "outputId": "6dc84dae-7212-408c-e7c4-231e02d70db6",
        "colab": {
          "base_uri": "https://localhost:8080/",
          "height": 54
        }
      },
      "source": [
        "# Your code here\n",
        "\n",
        "# QUES sets are inherently unordered. There is no meaningful \"first\" or \"last\" element. But it is working 🤷🏼‍♀️\n",
        "# In case i transform it into a list and pop the fist element, how do I save it again as a set?\n",
        "\n",
        "# set1.pop()\n",
        "# print(set1)\n",
        "\n",
        "# I think it is just working sometimes.\n",
        "set_to_list = list(set1)\n",
        "set_to_list.pop(0)\n",
        "\n",
        "set1 = set(set_to_list)\n",
        "print(set1)"
      ],
      "execution_count": 560,
      "outputs": [
        {
          "output_type": "stream",
          "text": [
            "{2, 4, 5, 6, 7, 8, 10, 12, 13, 14, 15, 16, 17, 18, 22, 23, 24, 25, 26, 27, 30, 34, 35, 36, 37, 38, 40, 42, 43, 44, 45, 46, 47, 50, 52, 53, 54, 55, 56, 58, 60, 64, 65, 66, 67, 68, 70, 72, 73, 74, 75, 77, 78, 80, 83, 84, 85, 86, 88, 90, 92, 93, 94, 95, 96}\n"
          ],
          "name": "stdout"
        }
      ]
    },
    {
      "cell_type": "markdown",
      "metadata": {
        "id": "xe82UKEXoilM",
        "colab_type": "text"
      },
      "source": [
        "#### Remove every element in the following list from `set1` if they are present in the set. Print the remaining elements.\n",
        "\n",
        "```\n",
        "list_to_remove = [1, 9, 11, 19, 21, 29, 31, 39, 41, 49, 51, 59, 61, 69, 71, 79, 81, 89, 91, 99]\n",
        "```"
      ]
    },
    {
      "cell_type": "code",
      "metadata": {
        "id": "1VYxkKRhoilU",
        "colab_type": "code",
        "colab": {}
      },
      "source": [
        "# Your code here\n",
        "list_to_remove = [1, 9, 11, 19, 21, 29, 31, 39, 41, 49, 51, 59, 61, 69, 71, 79, 81, 89, 91, 99]\n"
      ],
      "execution_count": 0,
      "outputs": []
    },
    {
      "cell_type": "code",
      "metadata": {
        "id": "zOvE0pX6EYRQ",
        "colab_type": "code",
        "outputId": "cc460b85-4073-4622-e3ef-808ccdb6d9e0",
        "colab": {
          "base_uri": "https://localhost:8080/",
          "height": 54
        }
      },
      "source": [
        "for num in list_to_remove:\n",
        "  if num in list(set1):\n",
        "    set1.remove(num)\n",
        "\n",
        "print(set1)"
      ],
      "execution_count": 559,
      "outputs": [
        {
          "output_type": "stream",
          "text": [
            "{0, 2, 4, 5, 6, 7, 8, 10, 12, 13, 14, 15, 16, 17, 18, 22, 23, 24, 25, 26, 27, 30, 34, 35, 36, 37, 38, 40, 42, 43, 44, 45, 46, 47, 50, 52, 53, 54, 55, 56, 58, 60, 64, 65, 66, 67, 68, 70, 72, 73, 74, 75, 77, 78, 80, 83, 84, 85, 86, 88, 90, 92, 93, 94, 95, 96}\n"
          ],
          "name": "stdout"
        }
      ]
    }
  ]
}