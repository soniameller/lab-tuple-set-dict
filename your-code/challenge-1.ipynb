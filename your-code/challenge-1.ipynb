{
  "nbformat": 4,
  "nbformat_minor": 0,
  "metadata": {
    "kernelspec": {
      "display_name": "Python 3",
      "language": "python",
      "name": "python3"
    },
    "language_info": {
      "codemirror_mode": {
        "name": "ipython",
        "version": 3
      },
      "file_extension": ".py",
      "mimetype": "text/x-python",
      "name": "python",
      "nbconvert_exporter": "python",
      "pygments_lexer": "ipython3",
      "version": "3.7.2"
    },
    "colab": {
      "name": "challenge-1.ipynb",
      "provenance": []
    }
  },
  "cells": [
    {
      "cell_type": "markdown",
      "metadata": {
        "id": "GeoiqaNfgDWY",
        "colab_type": "text"
      },
      "source": [
        "## Challenge 1: Tuples\n",
        "\n",
        "#### Do you know you can create tuples with only one element?\n",
        "\n",
        "**In the cell below, define a variable `tup` with a single element `\"I\"`.**\n",
        "\n",
        "*Hint: you need to add a comma (`,`) after the single element.*"
      ]
    },
    {
      "cell_type": "code",
      "metadata": {
        "id": "wF7RBi0HgDWb",
        "colab_type": "code",
        "colab": {
          "base_uri": "https://localhost:8080/",
          "height": 34
        },
        "outputId": "358f258f-ef48-4de0-e84a-ad54038a1936"
      },
      "source": [
        "# Your code here\n",
        "tup = (\"I\",)\n",
        "tup\n"
      ],
      "execution_count": 65,
      "outputs": [
        {
          "output_type": "execute_result",
          "data": {
            "text/plain": [
              "('I',)"
            ]
          },
          "metadata": {
            "tags": []
          },
          "execution_count": 65
        }
      ]
    },
    {
      "cell_type": "markdown",
      "metadata": {
        "id": "J61r9pQ2gDWf",
        "colab_type": "text"
      },
      "source": [
        "#### Print the type of `tup`. \n",
        "\n",
        "Make sure its type is correct (i.e. *tuple* instead of *str*)."
      ]
    },
    {
      "cell_type": "code",
      "metadata": {
        "id": "s-cOMKr6gDWk",
        "colab_type": "code",
        "colab": {
          "base_uri": "https://localhost:8080/",
          "height": 34
        },
        "outputId": "d79f8efc-40b5-49d4-d257-eb1254712fb1"
      },
      "source": [
        "# Your code here\n",
        "type(tup)\n"
      ],
      "execution_count": 66,
      "outputs": [
        {
          "output_type": "execute_result",
          "data": {
            "text/plain": [
              "tuple"
            ]
          },
          "metadata": {
            "tags": []
          },
          "execution_count": 66
        }
      ]
    },
    {
      "cell_type": "markdown",
      "metadata": {
        "id": "itIRlvD0gDWp",
        "colab_type": "text"
      },
      "source": [
        "#### Now try to append the following elements to `tup`. \n",
        "\n",
        "Are you able to do it? Explain.\n",
        "\n",
        "```\n",
        "\"r\", \"o\", \"n\", \"h\", \"a\", \"c\", \"k',\n",
        "```"
      ]
    },
    {
      "cell_type": "code",
      "metadata": {
        "id": "8XOxcme2gDWr",
        "colab_type": "code",
        "colab": {
          "base_uri": "https://localhost:8080/",
          "height": 34
        },
        "outputId": "934253e5-5c91-41cd-aa3c-49c34b5d4a06"
      },
      "source": [
        "# Your code here\n",
        "\n",
        "tup_lst = list(tup)\n",
        "tup_lst.extend([\"r\", \"o\", \"n\", \"h\", \"a\", \"c\", \"k\"])\n",
        "tup_lst\n",
        "\n",
        "tup = tuple(tup_lst)\n",
        "tup\n",
        "\n",
        "\n",
        "# Your explanation here\n",
        "# To be able to append elements to a tuple I had to: \n",
        "#   > transform it into a list\n",
        "#   > Append (or extend to append everything at once)\n",
        "#   > Transform it again into a tupple\n",
        "\n",
        "#   This code can run only once, running it repeated times will again what has already been done.\n"
      ],
      "execution_count": 67,
      "outputs": [
        {
          "output_type": "execute_result",
          "data": {
            "text/plain": [
              "('I', 'r', 'o', 'n', 'h', 'a', 'c', 'k')"
            ]
          },
          "metadata": {
            "tags": []
          },
          "execution_count": 67
        }
      ]
    },
    {
      "cell_type": "markdown",
      "metadata": {
        "id": "N6vRog2YgDWw",
        "colab_type": "text"
      },
      "source": [
        "#### How about re-assign a new value to an existing tuple?\n",
        "\n",
        "Re-assign the following elements to `tup`. Are you able to do it? Explain.\n",
        "\n",
        "```\n",
        "\"I\", \"r\", \"o\", \"n\", \"h\", \"a\", \"c\", \"k\"\n",
        "```"
      ]
    },
    {
      "cell_type": "code",
      "metadata": {
        "id": "yLJSLE-2gDW1",
        "colab_type": "code",
        "colab": {
          "base_uri": "https://localhost:8080/",
          "height": 34
        },
        "outputId": "486fad0a-582c-4ef7-d99c-70b03087bdb5"
      },
      "source": [
        "# Your code here\n",
        "tup = (\"I\", \"r\", \"o\", \"n\", \"h\", \"a\", \"c\", \"k\")\n",
        "tup\n",
        "\n",
        "# Your explanation here\n",
        "# Yes! A tuple is inmutable but it is possible to reasign it"
      ],
      "execution_count": 68,
      "outputs": [
        {
          "output_type": "execute_result",
          "data": {
            "text/plain": [
              "('I', 'r', 'o', 'n', 'h', 'a', 'c', 'k')"
            ]
          },
          "metadata": {
            "tags": []
          },
          "execution_count": 68
        }
      ]
    },
    {
      "cell_type": "markdown",
      "metadata": {
        "id": "2qtfsIQRgDW8",
        "colab_type": "text"
      },
      "source": [
        "#### Split `tup` into `tup1` and `tup2` with 4 elements in each. \n",
        "\n",
        "`tup1` should be `(\"I\", \"r\", \"o\", \"n\")` and `tup2` should be `(\"h\", \"a\", \"c\", \"k\")`.\n",
        "\n",
        "*Hint: use positive index numbers for `tup1` assignment and use negative index numbers for `tup2` assignment. Positive index numbers count from the beginning whereas negative index numbers count from the end of the sequence.*\n",
        "\n",
        "Also print `tup1` and `tup2`."
      ]
    },
    {
      "cell_type": "code",
      "metadata": {
        "id": "KtrK_52PgDW9",
        "colab_type": "code",
        "colab": {
          "base_uri": "https://localhost:8080/",
          "height": 52
        },
        "outputId": "c1c6014f-0675-44a5-9cc4-4454f6afc179"
      },
      "source": [
        "# Your code here\n",
        "tup1 = tup[:4]\n",
        "tup2 = tup[-4:]\n",
        "\n",
        "print(tup1)\n",
        "print(tup2)"
      ],
      "execution_count": 71,
      "outputs": [
        {
          "output_type": "stream",
          "text": [
            "('I', 'r', 'o', 'n')\n",
            "('h', 'a', 'c', 'k')\n"
          ],
          "name": "stdout"
        }
      ]
    },
    {
      "cell_type": "markdown",
      "metadata": {
        "id": "Xn5akG27gDXL",
        "colab_type": "text"
      },
      "source": [
        "#### Add `tup1` and `tup2` into `tup3` using the `+` operator.\n",
        "\n",
        "Then print `tup3` and check if `tup3` equals to `tup`."
      ]
    },
    {
      "cell_type": "code",
      "metadata": {
        "id": "UmxGuRuGgDXM",
        "colab_type": "code",
        "colab": {
          "base_uri": "https://localhost:8080/",
          "height": 34
        },
        "outputId": "320c30a7-f0d4-4974-dba3-743691cd9a4e"
      },
      "source": [
        "# Your code here\n",
        "\n",
        "tup3 = tup1 + tup2\n",
        "tup3\n"
      ],
      "execution_count": 78,
      "outputs": [
        {
          "output_type": "execute_result",
          "data": {
            "text/plain": [
              "('I', 'r', 'o', 'n', 'h', 'a', 'c', 'k')"
            ]
          },
          "metadata": {
            "tags": []
          },
          "execution_count": 78
        }
      ]
    },
    {
      "cell_type": "markdown",
      "metadata": {
        "id": "UriumGcbgDXQ",
        "colab_type": "text"
      },
      "source": [
        "#### Count the number of elements in `tup1` and `tup2`. Then add the two counts together and check if the sum is the same as the number of elements in `tup3`"
      ]
    },
    {
      "cell_type": "code",
      "metadata": {
        "id": "kKgGUhtOgDXR",
        "colab_type": "code",
        "colab": {
          "base_uri": "https://localhost:8080/",
          "height": 34
        },
        "outputId": "5f464de1-e157-43a6-f92b-b7d702bb6b0a"
      },
      "source": [
        "# Your code here\n",
        "\n",
        "sum_tups = len(tup1) + len(tup2)\n",
        "sum_tups == len(tup3)\n"
      ],
      "execution_count": 82,
      "outputs": [
        {
          "output_type": "execute_result",
          "data": {
            "text/plain": [
              "True"
            ]
          },
          "metadata": {
            "tags": []
          },
          "execution_count": 82
        }
      ]
    },
    {
      "cell_type": "markdown",
      "metadata": {
        "id": "qDQaVxuNgDXX",
        "colab_type": "text"
      },
      "source": [
        "#### What is the index number of `\"h\"` in `tup3`?"
      ]
    },
    {
      "cell_type": "code",
      "metadata": {
        "id": "tW3nqqDsgDXb",
        "colab_type": "code",
        "colab": {
          "base_uri": "https://localhost:8080/",
          "height": 34
        },
        "outputId": "8791b0cd-45d2-44d4-a3ad-7a861db07069"
      },
      "source": [
        "# Your code here\n",
        "tup3.index(\"h\")\n"
      ],
      "execution_count": 83,
      "outputs": [
        {
          "output_type": "execute_result",
          "data": {
            "text/plain": [
              "4"
            ]
          },
          "metadata": {
            "tags": []
          },
          "execution_count": 83
        }
      ]
    },
    {
      "cell_type": "markdown",
      "metadata": {
        "id": "2s_KeQwNgDXe",
        "colab_type": "text"
      },
      "source": [
        "#### Now, use a FOR loop to check whether each letter in the following list is present in `tup3`:\n",
        "\n",
        "```\n",
        "letters = [\"a\", \"b\", \"c\", \"d\", \"e\"]\n",
        "```\n",
        "\n",
        "For each letter you check, print `True` if it is present in `tup3` otherwise print `False`.\n",
        "\n",
        "*Hint: you only need to loop `letters`. You don't need to loop `tup3` because there is a Python operator `in` you can use. See [reference](https://stackoverflow.com/questions/17920147/how-to-check-if-a-tuple-contains-an-element-in-python).*"
      ]
    },
    {
      "cell_type": "code",
      "metadata": {
        "id": "MJRLtjcKgDXf",
        "colab_type": "code",
        "colab": {
          "base_uri": "https://localhost:8080/",
          "height": 105
        },
        "outputId": "84274aea-1736-4b50-e7d4-e3df9fb3abc8"
      },
      "source": [
        "# Your code here\n",
        "letters = [\"a\", \"b\", \"c\", \"d\", \"e\"]\n",
        "\n",
        "for letter in letters:\n",
        "  if letter in tup3:\n",
        "    print(\"true\")\n",
        "  elif letter not in tup3:\n",
        "    print(\"false\")\n",
        "  else:\n",
        "    print(\"Something went wrong\")\n"
      ],
      "execution_count": 91,
      "outputs": [
        {
          "output_type": "stream",
          "text": [
            "true\n",
            "false\n",
            "true\n",
            "false\n",
            "false\n"
          ],
          "name": "stdout"
        }
      ]
    },
    {
      "cell_type": "markdown",
      "metadata": {
        "id": "tMXATKRygDXj",
        "colab_type": "text"
      },
      "source": [
        "#### How many times does each letter in `letters` appear in `tup3`?\n",
        "\n",
        "Print out the number of occurrence of each letter."
      ]
    },
    {
      "cell_type": "code",
      "metadata": {
        "id": "myBsKUIigDXk",
        "colab_type": "code",
        "colab": {
          "base_uri": "https://localhost:8080/",
          "height": 158
        },
        "outputId": "2a55a8c7-8039-41af-f4a6-5e4e3cac99ba"
      },
      "source": [
        "# Your code here\n",
        "for letter in tup3:\n",
        "  print(letter,\":\",tup3.count(letter))\n",
        "\n",
        "# This code would repeat letters if there where repeated letters in the string.\n"
      ],
      "execution_count": 98,
      "outputs": [
        {
          "output_type": "stream",
          "text": [
            "I : 1\n",
            "r : 1\n",
            "o : 1\n",
            "n : 1\n",
            "h : 1\n",
            "a : 1\n",
            "c : 1\n",
            "k : 1\n"
          ],
          "name": "stdout"
        }
      ]
    },
    {
      "cell_type": "code",
      "metadata": {
        "id": "9kc7zMb6mWo6",
        "colab_type": "code",
        "colab": {}
      },
      "source": [
        ""
      ],
      "execution_count": 0,
      "outputs": []
    }
  ]
}